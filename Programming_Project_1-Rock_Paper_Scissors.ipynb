{
 "cells": [
  {
   "cell_type": "code",
   "execution_count": 3,
   "id": "0b091e78",
   "metadata": {},
   "outputs": [],
   "source": [
    "import random #So I can have computer randomly select rock, paper, or scissors"
   ]
  },
  {
   "cell_type": "code",
   "execution_count": 31,
   "id": "60819c9d",
   "metadata": {},
   "outputs": [
    {
     "name": "stdout",
     "output_type": "stream",
     "text": [
      "Choose rock, paper, or scissors: paper\n",
      "Paper covers rock. You wni!\n",
      "Play again? (y/n): n\n"
     ]
    }
   ],
   "source": [
    "while True: #Use a while True condition to allow player to play endlessly\n",
    "    player_turn= input(\"Choose rock, paper, or scissors: \") #Assign the player's input to a term so I can use conditionals\n",
    "    choices=[\"rock\", \"paper\", \"scissors\"] #Created the choices into a list so the computer could randomly select one\n",
    "    computer_turn= random.choice(choices) #Assign computer's choice so I can use conditionals\n",
    "    if player_turn==computer_turn: #If both inputs are the same\n",
    "        print(\"Both players chose\", player_turn,\". It's a tie!\")\n",
    "    elif player_turn==\"rock\" and computer_turn==\"scissors\": #If player inputed rock and computer got scissors\n",
    "        print(\"Rock beats scissors! You win\")\n",
    "    elif player_turn==\"rock\" and computer_turn==\"paper\": #If player inputed rock and computer got paper\n",
    "        print(\"Paper covers rock. You lose :(\")\n",
    "    elif player_turn==\"paper\" and computer_turn==\"rock\": #If player inputed paper and computer got rock\n",
    "        print(\"Paper covers rock. You wni!\")\n",
    "    elif player_turn==\"paper\" and computer_turn==\"scissors\": #If player inputed paper and computer got scissors\n",
    "        print(\"Scissors cut paper. You lose :(\")\n",
    "    elif player_turn==\"scissors\" and computer_turn==\"rock\": #If player inputed scissors and computer got rock\n",
    "        print(\"Rock smashes scissors. You lose :(\")\n",
    "    elif player_turn==\"scissors\" and computer_turn==\"paper\": #If player inputed scissors and computer got paper\n",
    "        print(\"Scissors cut paper. You win!\")\n",
    "\n",
    "    play_again= input(\"Play again? (y/n): \") #Assign value to see if the player wants to play again and continue the loop\n",
    "    if play_again.lower()!=\"y\":\n",
    "        break #If the player's input is not \"y\" then the loop/game will stop"
   ]
  },
  {
   "cell_type": "code",
   "execution_count": null,
   "id": "5991b40c",
   "metadata": {},
   "outputs": [],
   "source": []
  }
 ],
 "metadata": {
  "kernelspec": {
   "display_name": "Python 3",
   "language": "python",
   "name": "python3"
  },
  "language_info": {
   "codemirror_mode": {
    "name": "ipython",
    "version": 3
   },
   "file_extension": ".py",
   "mimetype": "text/x-python",
   "name": "python",
   "nbconvert_exporter": "python",
   "pygments_lexer": "ipython3",
   "version": "3.8.8"
  }
 },
 "nbformat": 4,
 "nbformat_minor": 5
}
